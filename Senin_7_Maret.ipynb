{
 "cells": [
  {
   "cell_type": "markdown",
   "metadata": {},
   "source": [
    "### Inheritence"
   ]
  },
  {
   "cell_type": "code",
   "execution_count": 8,
   "metadata": {},
   "outputs": [
    {
     "name": "stdout",
     "output_type": "stream",
     "text": [
      "Merk : MSI, harga : 800000\n"
     ]
    }
   ],
   "source": [
    "class PC(object):\n",
    "    def __init__(self,merk,harga):\n",
    "        self.merk=merk\n",
    "        self.harga=harga\n",
    "        \n",
    "    def info(self):\n",
    "        print(f\"Merk : {self.merk}, harga : {self.harga}\")\n",
    "\n",
    "pc1=PC(\"MSI\",800000)\n",
    "pc1.info()"
   ]
  },
  {
   "cell_type": "code",
   "execution_count": 11,
   "metadata": {},
   "outputs": [
    {
     "name": "stdout",
     "output_type": "stream",
     "text": [
      "Merk : Gigabyte, harga : 4550000\n",
      "Merk : Gigabyte, harga : 4550000\n",
      "Jenis Chipset : Z490-M, Nama part : Motherboard\n"
     ]
    }
   ],
   "source": [
    "class motherboard(PC):\n",
    "    def __init__(self,merk,namapart,harga,chipset):\n",
    "        super().__init__(merk,harga)\n",
    "        self.chipset=chipset\n",
    "        self.namapart=namapart\n",
    "    \n",
    "    def info_motherboard(self):\n",
    "        super().info()\n",
    "        print(f\"Jenis Chipset : {self.chipset}, Nama part : {self.namapart}\")\n",
    "\n",
    "mobo1=motherboard(\"Gigabyte\",\"Motherboard\",4550000,\"Z490-M\")\n",
    "mobo1.info()\n",
    "mobo1.info_motherboard()"
   ]
  },
  {
   "cell_type": "code",
   "execution_count": null,
   "metadata": {},
   "outputs": [],
   "source": []
  }
 ],
 "metadata": {
  "interpreter": {
   "hash": "ab3d0554c44a2bb0bbd516a19e13efad536aac18c6cf875147ff2aadc6ef4a59"
  },
  "kernelspec": {
   "display_name": "Python 3.9.7 ('base')",
   "language": "python",
   "name": "python3"
  },
  "language_info": {
   "codemirror_mode": {
    "name": "ipython",
    "version": 3
   },
   "file_extension": ".py",
   "mimetype": "text/x-python",
   "name": "python",
   "nbconvert_exporter": "python",
   "pygments_lexer": "ipython3",
   "version": "3.9.7"
  },
  "orig_nbformat": 4
 },
 "nbformat": 4,
 "nbformat_minor": 2
}
