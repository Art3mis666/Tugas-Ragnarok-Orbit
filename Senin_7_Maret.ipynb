{
 "cells": [
  {
   "cell_type": "markdown",
   "metadata": {},
   "source": [
    "### Inheritence"
   ]
  },
  {
   "cell_type": "code",
   "execution_count": 8,
   "metadata": {},
   "outputs": [
    {
     "name": "stdout",
     "output_type": "stream",
     "text": [
      "Merk : MSI, harga : 800000\n"
     ]
    }
   ],
   "source": [
    "class PC(object):\n",
    "    def __init__(self,merk,harga):\n",
    "        self.merk=merk\n",
    "        self.harga=harga\n",
    "        \n",
    "    def info(self):\n",
    "        print(f\"Merk : {self.merk}, harga : {self.harga}\")\n",
    "\n",
    "pc1=PC(\"MSI\",800000)\n",
    "pc1.info()"
   ]
  },
  {
   "cell_type": "code",
   "execution_count": 11,
   "metadata": {},
   "outputs": [
    {
     "name": "stdout",
     "output_type": "stream",
     "text": [
      "Merk : Gigabyte, harga : 4550000\n",
      "Merk : Gigabyte, harga : 4550000\n",
      "Jenis Chipset : Z490-M, Nama part : Motherboard\n"
     ]
    }
   ],
   "source": [
    "class motherboard(PC):\n",
    "    def __init__(self,merk,namapart,harga,chipset):\n",
    "        super().__init__(merk,harga)\n",
    "        self.chipset=chipset\n",
    "        self.namapart=namapart\n",
    "    \n",
    "    def info_motherboard(self):\n",
    "        super().info()\n",
    "        print(f\"Jenis Chipset : {self.chipset}, Nama part : {self.namapart}\")\n",
    "\n",
    "mobo1=motherboard(\"Gigabyte\",\"Motherboard\",4550000,\"Z490-M\")\n",
    "mobo1.info()\n",
    "mobo1.info_motherboard()"
   ]
  },
  {
   "cell_type": "code",
   "execution_count": 8,
   "metadata": {},
   "outputs": [
    {
     "name": "stdout",
     "output_type": "stream",
     "text": [
      "jenis : Keyboard, harga : 350000, warna : biru\n"
     ]
    }
   ],
   "source": [
    "jenis='Keyboard'\n",
    "harga=350000\n",
    "warna='biru'\n",
    "\n",
    "class peripherals(object):\n",
    "    jenis_peripherals=\"\"\n",
    "    def __init__(self,input_jenis,input_harga,input_warna):\n",
    "        self.jenis=input_jenis\n",
    "        self.harga=input_harga\n",
    "        self.warna=input_warna\n",
    "        peripherals.jenis_peripherals=input_jenis\n",
    "    \n",
    "    def info(self):\n",
    "        print(f\"jenis : {self.jenis}, harga : {self.harga}, warna : {self.warna}\")\n",
    "\n",
    "peripherals1=peripherals(\"Keyboard\",350000,\"biru\")\n",
    "peripherals1.info()"
   ]
  },
  {
   "cell_type": "markdown",
   "metadata": {},
   "source": [
    "### Abstraction"
   ]
  },
  {
   "cell_type": "code",
   "execution_count": 11,
   "metadata": {},
   "outputs": [],
   "source": [
    "from abc import abstractmethod, ABC"
   ]
  },
  {
   "cell_type": "code",
   "execution_count": 15,
   "metadata": {},
   "outputs": [
    {
     "name": "stdout",
     "output_type": "stream",
     "text": [
      "Kelas Eksekutif dan Bisnis\n",
      "Kelas Ekonomi Lokal\n"
     ]
    }
   ],
   "source": [
    "class KeretaApi(ABC):\n",
    "    @abstractmethod\n",
    "    def kelas(self):\n",
    "        pass\n",
    "class ArgoParahyangan(KeretaApi):\n",
    "    def kelas(self):\n",
    "        print(\"Kelas Eksekutif dan Bisnis\")\n",
    "class KALokal(KeretaApi):\n",
    "    def kelas(self):\n",
    "        print(\"Kelas Ekonomi Lokal\")\n",
    "        \n",
    "Kereta1=ArgoParahyangan()\n",
    "Kereta2=KALokal()\n",
    "\n",
    "Kereta1.kelas()\n",
    "Kereta2.kelas()"
   ]
  },
  {
   "cell_type": "markdown",
   "metadata": {},
   "source": [
    "### Polymorphism"
   ]
  },
  {
   "cell_type": "code",
   "execution_count": 22,
   "metadata": {},
   "outputs": [
    {
     "name": "stdout",
     "output_type": "stream",
     "text": [
      "Nama Kereta : Argo Wilis, Relasi : Gambir - Surabaya Gubeng, Kelas : Eksekutif\n",
      "Harga Tiket : 420000, Jadwal : 09:45\n",
      "Nama Kereta : Argo Dwipangga, Relasi : Gambir - Solo Balapan, Kelas : Eksekutif\n",
      "Harga tiket : 550000, Jadwal : 07:20\n"
     ]
    }
   ],
   "source": [
    "class KeretaApi(object):\n",
    "    def __init__(self,namakereta,relasi,kelas):\n",
    "        self.namakereta=namakereta\n",
    "        self.relasi=relasi\n",
    "        self.kelas=kelas\n",
    "    \n",
    "    def info(self):\n",
    "        print(f\"Nama Kereta : {self.namakereta}, Relasi : {self.relasi}, Kelas : {self.kelas}\")\n",
    "\n",
    "class ArgoWilis(KeretaApi):\n",
    "    def __init__(self,namakereta,relasi,kelas,hargatiket,jadwal):\n",
    "        super().__init__(namakereta,relasi,kelas)\n",
    "        self.hargatiket=hargatiket\n",
    "        self.jadwal=jadwal\n",
    "    \n",
    "    def WilisTiket(self):\n",
    "        print(\"Tiket Tersedia\")\n",
    "        \n",
    "    def info_wilis(self):\n",
    "        print(f\"Harga Tiket : {self.hargatiket}, Jadwal : {self.jadwal}\")\n",
    "\n",
    "class ArgoDwipangga(KeretaApi):\n",
    "    def __init__(self,namakereta,relasi,kelas,hargatiket,jadwal):\n",
    "        super().__init__(namakereta,relasi,kelas)\n",
    "        self.hargatiket=hargatiket\n",
    "        self.jadwal=jadwal\n",
    "    \n",
    "    def DwipanggaTiket(self):\n",
    "        print(\"Tiket Tersedia\")\n",
    "    \n",
    "    def info_dwipangga(self):\n",
    "        print(f\"Harga tiket : {self.hargatiket}, Jadwal : {self.jadwal}\")\n",
    "\n",
    "tiket1=ArgoWilis(\"Argo Wilis\",\"Gambir - Surabaya Gubeng\",\"Eksekutif\",420000,\"09:45\")\n",
    "tiket1.info()\n",
    "tiket1.info_wilis()\n",
    "\n",
    "tiket2=ArgoDwipangga(\"Argo Dwipangga\",\"Gambir - Solo Balapan\",\"Eksekutif\",550000,\"07:20\")\n",
    "tiket2.info()\n",
    "tiket2.info_dwipangga()"
   ]
  },
  {
   "cell_type": "markdown",
   "metadata": {},
   "source": [
    "### Custom Modules"
   ]
  },
  {
   "cell_type": "code",
   "execution_count": 23,
   "metadata": {},
   "outputs": [],
   "source": [
    "import keretaapi as ka"
   ]
  },
  {
   "cell_type": "code",
   "execution_count": 32,
   "metadata": {},
   "outputs": [
    {
     "data": {
      "text/plain": [
       "keretaapi.ArgoWilis"
      ]
     },
     "execution_count": 32,
     "metadata": {},
     "output_type": "execute_result"
    }
   ],
   "source": [
    "ka.ArgoWilis"
   ]
  },
  {
   "cell_type": "code",
   "execution_count": null,
   "metadata": {},
   "outputs": [],
   "source": []
  }
 ],
 "metadata": {
  "interpreter": {
   "hash": "ab3d0554c44a2bb0bbd516a19e13efad536aac18c6cf875147ff2aadc6ef4a59"
  },
  "kernelspec": {
   "display_name": "Python 3.9.7 ('base')",
   "language": "python",
   "name": "python3"
  },
  "language_info": {
   "codemirror_mode": {
    "name": "ipython",
    "version": 3
   },
   "file_extension": ".py",
   "mimetype": "text/x-python",
   "name": "python",
   "nbconvert_exporter": "python",
   "pygments_lexer": "ipython3",
   "version": "3.9.7"
  },
  "orig_nbformat": 4
 },
 "nbformat": 4,
 "nbformat_minor": 2
}
