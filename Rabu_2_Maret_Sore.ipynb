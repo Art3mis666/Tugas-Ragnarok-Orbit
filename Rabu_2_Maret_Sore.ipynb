{
 "cells": [
  {
   "cell_type": "markdown",
   "metadata": {},
   "source": [
    "Soal No.1"
   ]
  },
  {
   "cell_type": "code",
   "execution_count": 111,
   "metadata": {},
   "outputs": [
    {
     "name": "stdout",
     "output_type": "stream",
     "text": [
      "0.06\n",
      "False\n"
     ]
    }
   ],
   "source": [
    "def cek_bagi(m=int(input(\"masukan m : \")),n=int(input(\"Masukan n :\"))):\n",
    "    hitung=m/n\n",
    "    print(hitung)\n",
    "    if hitung==1:\n",
    "        return True\n",
    "    else:\n",
    "        return False\n",
    "hasil=cek_bagi()\n",
    "print(hasil)\n"
   ]
  },
  {
   "cell_type": "markdown",
   "metadata": {},
   "source": [
    "Soal No.2"
   ]
  },
  {
   "cell_type": "code",
   "execution_count": 14,
   "metadata": {},
   "outputs": [
    {
     "name": "stdout",
     "output_type": "stream",
     "text": [
      "===== MENU ====\n",
      "          1. Soup and Salad\n",
      "          2. Pasta with Meat Sauce\n",
      "          3. Chef's Special\n",
      "          \n",
      "One  Pasta with Meat Sauce  coming right up!\n"
     ]
    }
   ],
   "source": [
    "pilihan='y'\n",
    "while pilihan=='y':\n",
    "    print('''===== MENU ====\n",
    "          1. Soup and Salad\n",
    "          2. Pasta with Meat Sauce\n",
    "          3. Chef's Special\n",
    "          ''')\n",
    "    \n",
    "    order=str(input(\"Which number would you like to order ?\"))\n",
    "    if order=='1':\n",
    "          name='Soup and Salad'\n",
    "          print('One ',name,' coming right up!')\n",
    "    elif order=='2':\n",
    "          name='Pasta with Meat Sauce'\n",
    "          print('One ',name,' coming right up!')\n",
    "    elif order=='3':\n",
    "          name='Chefs Special'\n",
    "          print('One ',name,' coming right up!')\n",
    "    else:\n",
    "          print('Sorry, that is not a valid choice...')\n",
    "        \n",
    "    pilihan=input(\"Is there anything to order ? Y/N\")"
   ]
  },
  {
   "cell_type": "markdown",
   "metadata": {},
   "source": [
    "Soal No.3"
   ]
  },
  {
   "cell_type": "code",
   "execution_count": 1,
   "metadata": {},
   "outputs": [
    {
     "name": "stdout",
     "output_type": "stream",
     "text": [
      "True\n"
     ]
    }
   ],
   "source": [
    "def rand_divis_3():\n",
    "    n1=3\n",
    "    n2=int(input(\"Masukan nilai yang akan dibagi\"))\n",
    "    if n2%2==0:\n",
    "        return True\n",
    "    else:\n",
    "        return False\n",
    "    \n",
    "check=rand_divis_3()\n",
    "print(check)"
   ]
  },
  {
   "cell_type": "markdown",
   "metadata": {},
   "source": [
    "Soal No.4"
   ]
  },
  {
   "cell_type": "code",
   "execution_count": 121,
   "metadata": {},
   "outputs": [
    {
     "name": "stdout",
     "output_type": "stream",
     "text": [
      "angka tidak sama\n"
     ]
    }
   ],
   "source": [
    "def cek_angka(a=int(input(\"masukan angka pertama\")),b=int(input(\"masukan angka kedua\"))):\n",
    "    if a==b:\n",
    "        print(\"angka sama\")\n",
    "    else:\n",
    "        print(\"angka tidak sama\")\n",
    "\n",
    "result=cek_angka()    \n"
   ]
  },
  {
   "cell_type": "markdown",
   "metadata": {},
   "source": [
    "Soal No.5"
   ]
  },
  {
   "cell_type": "code",
   "execution_count": 12,
   "metadata": {},
   "outputs": [
    {
     "name": "stdout",
     "output_type": "stream",
     "text": [
      "Your name is  Naufal Hafizh\n"
     ]
    }
   ],
   "source": [
    "def ask_name():\n",
    "    nama=input(\"Enter your name : \")\n",
    "    return nama\n",
    "jawab=ask_name()\n",
    "print(\"Your name is \", jawab)"
   ]
  },
  {
   "cell_type": "code",
   "execution_count": null,
   "metadata": {},
   "outputs": [],
   "source": []
  }
 ],
 "metadata": {
  "interpreter": {
   "hash": "55812412f4194e6e36cf0b87bcf6145fbeb265097379bb6092bb4ae816390a5b"
  },
  "kernelspec": {
   "display_name": "Python 3.10.0 64-bit",
   "language": "python",
   "name": "python3"
  },
  "language_info": {
   "codemirror_mode": {
    "name": "ipython",
    "version": 3
   },
   "file_extension": ".py",
   "mimetype": "text/x-python",
   "name": "python",
   "nbconvert_exporter": "python",
   "pygments_lexer": "ipython3",
   "version": "3.10.0"
  },
  "orig_nbformat": 4
 },
 "nbformat": 4,
 "nbformat_minor": 2
}
