{
 "cells": [
  {
   "cell_type": "markdown",
   "metadata": {},
   "source": [
    "# Python OOP"
   ]
  },
  {
   "cell_type": "markdown",
   "metadata": {},
   "source": [
    "## No.1"
   ]
  },
  {
   "cell_type": "markdown",
   "metadata": {},
   "source": [
    "OOP adalah sebuah paradigma pemrograman yang berorientasi kepada konsep class dan object."
   ]
  },
  {
   "cell_type": "markdown",
   "metadata": {},
   "source": [
    "### Inheritence"
   ]
  },
  {
   "cell_type": "code",
   "execution_count": 1,
   "metadata": {},
   "outputs": [
    {
     "name": "stdout",
     "output_type": "stream",
     "text": [
      "Merk : Gigabyte, harga : 4550000\n",
      "Merk : Gigabyte, harga : 4550000\n",
      "Jenis Chipset : Z490-M, Nama part : Motherboard\n"
     ]
    }
   ],
   "source": [
    "class PC(object):\n",
    "    def __init__(self,merk,harga):\n",
    "        self.merk=merk\n",
    "        self.harga=harga\n",
    "        \n",
    "    def info(self):\n",
    "        print(f\"Merk : {self.merk}, harga : {self.harga}\")\n",
    "\n",
    "class motherboard(PC):\n",
    "    def __init__(self,merk,namapart,harga,chipset):\n",
    "        super().__init__(merk,harga)\n",
    "        self.chipset=chipset\n",
    "        self.namapart=namapart\n",
    "    \n",
    "    def info_motherboard(self):\n",
    "        super().info()\n",
    "        print(f\"Jenis Chipset : {self.chipset}, Nama part : {self.namapart}\")\n",
    "\n",
    "mobo1=motherboard(\"Gigabyte\",\"Motherboard\",4550000,\"Z490-M\")\n",
    "mobo1.info()\n",
    "mobo1.info_motherboard()"
   ]
  },
  {
   "cell_type": "markdown",
   "metadata": {},
   "source": [
    "### Encapsulation"
   ]
  },
  {
   "cell_type": "code",
   "execution_count": 4,
   "metadata": {},
   "outputs": [
    {
     "name": "stdout",
     "output_type": "stream",
     "text": [
      "Merk : Gigabyte, harga : 10000000\n"
     ]
    }
   ],
   "source": [
    "class PC(object):\n",
    "    def __init__(self,merk,harga):\n",
    "        self.merk=merk\n",
    "        self.harga=harga\n",
    "        \n",
    "    def info(self):\n",
    "        print(f\"Merk : {self.merk}, harga : {self.harga}\")\n",
    "\n",
    "pc1=PC(\"Gigabyte\", 10000000)\n",
    "pc1.info()"
   ]
  },
  {
   "cell_type": "markdown",
   "metadata": {},
   "source": [
    "## No.2"
   ]
  },
  {
   "cell_type": "markdown",
   "metadata": {},
   "source": [
    "Module Math : Digunakan untuk operasi perhitungan matematika\n"
   ]
  },
  {
   "cell_type": "markdown",
   "metadata": {},
   "source": [
    "Scipy : Module yang digunakan untuk perhitungan saintifik dan perhitungan teknikal. Pada Scipy terdapat module untuk optimisasi seperti aljabar linear, integrasi, interpolasi, fungsi spesial dll"
   ]
  },
  {
   "cell_type": "code",
   "execution_count": 5,
   "metadata": {},
   "outputs": [],
   "source": [
    "import math"
   ]
  },
  {
   "cell_type": "code",
   "execution_count": 17,
   "metadata": {},
   "outputs": [
    {
     "name": "stdout",
     "output_type": "stream",
     "text": [
      "28.539544287587088\n"
     ]
    }
   ],
   "source": [
    "a=math.sqrt(175)\n",
    "b=4*(math.sqrt(7))\n",
    "c=1/3\n",
    "d=math.log(81)\n",
    "\n",
    "hitung=a+b+c+d\n",
    "\n",
    "print(hitung)"
   ]
  },
  {
   "cell_type": "markdown",
   "metadata": {},
   "source": [
    "## No.4"
   ]
  },
  {
   "cell_type": "markdown",
   "metadata": {},
   "source": [
    "Exception Handling adalah metode pengecualian dalam python, dalam python pengecualian bisa di handling menggunakan statement Try. Sehingga program yang gagal atau salah tidak menghentikan keseluruhan program, akan tetapi code yang posisinya berada dibawah/setelah code yang error tersebut masih bisa berjalan/dieksekusi"
   ]
  },
  {
   "cell_type": "code",
   "execution_count": 22,
   "metadata": {},
   "outputs": [
    {
     "name": "stdout",
     "output_type": "stream",
     "text": [
      "Tidak bisa membagi angka dengan 0\n",
      "5.0\n"
     ]
    }
   ],
   "source": [
    "x=10\n",
    "y=0\n",
    "\n",
    "try:\n",
    "    hasil=x/y\n",
    "    print(hasil)\n",
    "except:\n",
    "    print(\"Tidak bisa membagi angka dengan 0\")\n",
    "\n",
    "y=2+y    \n",
    "print(x/y)\n"
   ]
  },
  {
   "cell_type": "markdown",
   "metadata": {},
   "source": [
    "# Artificial Intelligence"
   ]
  },
  {
   "cell_type": "markdown",
   "metadata": {},
   "source": [
    "## No.1"
   ]
  },
  {
   "cell_type": "markdown",
   "metadata": {},
   "source": [
    "### Structured data"
   ]
  },
  {
   "cell_type": "markdown",
   "metadata": {},
   "source": [
    "Sangat terorganisir dan mudah dicari dengan query atau algoritma, dapat dengan cepat dikonsolidasikan, mengikuti skema yang telah ditentukan sebelumnya, skema ditentukansebelum konten dibuat dan data diisi"
   ]
  },
  {
   "cell_type": "markdown",
   "metadata": {},
   "source": [
    "### Unstructured Data"
   ]
  },
  {
   "cell_type": "markdown",
   "metadata": {},
   "source": [
    "Tidak ada struktur yang dapat didefinisikan, memiliki sturktur internal tetapi tidak memiliki skema yang ditentukan sebelumnya, tidak dapat disimpan dalam baris dan kolom, tidak ada model data tetap, tidak terorganisi"
   ]
  },
  {
   "cell_type": "markdown",
   "metadata": {},
   "source": [
    "## No.2"
   ]
  },
  {
   "cell_type": "markdown",
   "metadata": {},
   "source": [
    "### Artificial Intellingence"
   ]
  },
  {
   "cell_type": "markdown",
   "metadata": {},
   "source": [
    "Sebuah sistem komputer yang dibuat untuk menyelesaikan permasalahan manusia"
   ]
  },
  {
   "cell_type": "markdown",
   "metadata": {},
   "source": [
    "### Machine Learning"
   ]
  },
  {
   "cell_type": "markdown",
   "metadata": {},
   "source": [
    "Algoritma yang menggunakan data untuk membangunnya"
   ]
  },
  {
   "cell_type": "markdown",
   "metadata": {},
   "source": [
    "### Deep Learning"
   ]
  },
  {
   "cell_type": "markdown",
   "metadata": {},
   "source": [
    "Sebuah automated featured Engineering"
   ]
  },
  {
   "cell_type": "markdown",
   "metadata": {},
   "source": [
    "## No.3"
   ]
  },
  {
   "cell_type": "markdown",
   "metadata": {},
   "source": [
    "### Machine Learning"
   ]
  },
  {
   "cell_type": "markdown",
   "metadata": {},
   "source": [
    "Aturan yang ada pada Machine learning berasal dari data + jawaban yang nantinya akan menghasilkan aturan itu sendiri"
   ]
  },
  {
   "cell_type": "markdown",
   "metadata": {},
   "source": [
    "### Traditional Programming"
   ]
  },
  {
   "cell_type": "markdown",
   "metadata": {},
   "source": [
    "Pada traditional programming, data + aturan itulah yang akhirnya menghasilkan jawaban"
   ]
  },
  {
   "cell_type": "markdown",
   "metadata": {},
   "source": [
    "## No.4"
   ]
  },
  {
   "cell_type": "markdown",
   "metadata": {},
   "source": [
    "Jakarta SmartCity, Blue river Techonolgy, Qlue"
   ]
  },
  {
   "cell_type": "markdown",
   "metadata": {},
   "source": [
    "# Maths for AI"
   ]
  },
  {
   "cell_type": "markdown",
   "metadata": {},
   "source": [
    "## No.1"
   ]
  },
  {
   "cell_type": "markdown",
   "metadata": {},
   "source": [
    "Karena Artificial Intelligence isinya mengenai perhitungan dan kalkulasi matematis yang dikolaborasikan dengan statistika dan juga pemrograman"
   ]
  },
  {
   "cell_type": "markdown",
   "metadata": {},
   "source": [
    "## No.2"
   ]
  },
  {
   "cell_type": "markdown",
   "metadata": {},
   "source": [
    "### Vektor"
   ]
  },
  {
   "cell_type": "markdown",
   "metadata": {},
   "source": [
    "Vektor merupakan besaran yang memiliki nilai dan arah. Dalam ilmu data, vektor adalah kumpulan nilai dan variabel tertentu"
   ]
  },
  {
   "cell_type": "markdown",
   "metadata": {},
   "source": [
    "### Skalar"
   ]
  },
  {
   "cell_type": "markdown",
   "metadata": {},
   "source": [
    "Konstanta atau besara yang memiliki nilai"
   ]
  },
  {
   "cell_type": "markdown",
   "metadata": {},
   "source": [
    "## No.3"
   ]
  },
  {
   "cell_type": "markdown",
   "metadata": {},
   "source": [
    "### Euclidean Distance"
   ]
  },
  {
   "cell_type": "markdown",
   "metadata": {},
   "source": [
    "Euclidean  distance  merupakan  salah  satu  metode perhitungan jarak yang digunakan untuk mengukur jarak dari 2 (dua)  buah  titik  dalam  Euclidean  space  (meliputi  bidang euclidean dua dimensi, tiga dimensi, atau bahkan lebih)"
   ]
  },
  {
   "cell_type": "markdown",
   "metadata": {},
   "source": [
    "### Manhattan Distance"
   ]
  },
  {
   "cell_type": "markdown",
   "metadata": {},
   "source": [
    "Manhattan distance digunakan untuk menghitung perbedaan absolut (mutlak)  antara koordinat sepasang objek"
   ]
  },
  {
   "cell_type": "markdown",
   "metadata": {},
   "source": [
    "## No.4"
   ]
  },
  {
   "cell_type": "markdown",
   "metadata": {},
   "source": [
    "Karena banyak sekali penggunaan Matrix dalam implementasi pembuatan Artificial Intelligence"
   ]
  },
  {
   "cell_type": "markdown",
   "metadata": {},
   "source": [
    "# Machine Learning"
   ]
  },
  {
   "cell_type": "markdown",
   "metadata": {},
   "source": [
    "## No.1"
   ]
  },
  {
   "cell_type": "markdown",
   "metadata": {},
   "source": [
    "### Supervised Learning"
   ]
  },
  {
   "cell_type": "markdown",
   "metadata": {},
   "source": [
    "digunakan untuk menemukan pola dalam data masukan yang diberi label sehingga memungkinkan kita untuk menghasilkan data keluaran yang benar secara efektif"
   ]
  },
  {
   "cell_type": "markdown",
   "metadata": {},
   "source": [
    "### Unsupervised Learning"
   ]
  },
  {
   "cell_type": "markdown",
   "metadata": {},
   "source": [
    "Digunakan untuk mempelajari struktur karakteristik data kita tanpa label yang disediakan secara eksplisit"
   ]
  },
  {
   "cell_type": "markdown",
   "metadata": {},
   "source": [
    "### Contoh"
   ]
  },
  {
   "cell_type": "markdown",
   "metadata": {},
   "source": [
    "Supervised : Klasifikasi, Regresi"
   ]
  },
  {
   "cell_type": "markdown",
   "metadata": {},
   "source": [
    "Unsupervised : Clustering, Dimensional"
   ]
  },
  {
   "cell_type": "markdown",
   "metadata": {},
   "source": [
    "## No.2"
   ]
  },
  {
   "cell_type": "markdown",
   "metadata": {},
   "source": [
    "Data Gathering >> Data Preparing >> Choosing Model >> Model Training >> Evaluation >> Tuning Hyperparameter >> Prediction"
   ]
  },
  {
   "cell_type": "markdown",
   "metadata": {},
   "source": [
    "## No.3"
   ]
  },
  {
   "cell_type": "markdown",
   "metadata": {},
   "source": [
    "### Regression"
   ]
  },
  {
   "cell_type": "markdown",
   "metadata": {},
   "source": [
    "Regresi adalah suatu teknik analisis untuk mengidentifikasi relasi atau hubungan diantara dua variabel atau lebih. Regresi bertujuan untuk menemukan suatu fungsi yang memodelkan data dengan meminimalkan error atau selisih antara nilai prediksi dengan nilai sebenarnya."
   ]
  },
  {
   "cell_type": "markdown",
   "metadata": {},
   "source": [
    "### Clustering"
   ]
  },
  {
   "cell_type": "markdown",
   "metadata": {},
   "source": [
    "Clustering adalah sebuah kumpulan data atau objek yang memiliki kemiripan satu sama lain di dalam kumpulan atau kelompok tersebut, dan berbeda dengan objek di kelompok lain."
   ]
  },
  {
   "cell_type": "markdown",
   "metadata": {},
   "source": [
    "## No.4"
   ]
  },
  {
   "cell_type": "markdown",
   "metadata": {},
   "source": [
    "ANN merupakan gabungan dari beberapa neuron (perceptron) yang disusun dalam beberapa lapisan (layer), ANN merupakan cikal bakal dari teknologi Deep Learning. Deep learning mampu melatih dirinya sendiri dalam melakukan tugas dengan data yang besar"
   ]
  },
  {
   "cell_type": "markdown",
   "metadata": {},
   "source": []
  }
 ],
 "metadata": {
  "interpreter": {
   "hash": "ab3d0554c44a2bb0bbd516a19e13efad536aac18c6cf875147ff2aadc6ef4a59"
  },
  "kernelspec": {
   "display_name": "Python 3.9.7 ('base')",
   "language": "python",
   "name": "python3"
  },
  "language_info": {
   "codemirror_mode": {
    "name": "ipython",
    "version": 3
   },
   "file_extension": ".py",
   "mimetype": "text/x-python",
   "name": "python",
   "nbconvert_exporter": "python",
   "pygments_lexer": "ipython3",
   "version": "3.9.7"
  },
  "orig_nbformat": 4
 },
 "nbformat": 4,
 "nbformat_minor": 2
}
