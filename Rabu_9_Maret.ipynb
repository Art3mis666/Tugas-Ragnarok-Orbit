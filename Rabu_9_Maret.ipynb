{
 "cells": [
  {
   "cell_type": "code",
   "execution_count": 9,
   "metadata": {},
   "outputs": [],
   "source": [
    "import scipy as sys\n",
    "import numpy as np"
   ]
  },
  {
   "cell_type": "code",
   "execution_count": 13,
   "metadata": {},
   "outputs": [],
   "source": [
    "X=np.array([1,2,3,5,5])"
   ]
  },
  {
   "cell_type": "markdown",
   "metadata": {},
   "source": [
    "## Measures of Central Tendency"
   ]
  },
  {
   "cell_type": "markdown",
   "metadata": {},
   "source": [
    "### MEAN"
   ]
  },
  {
   "cell_type": "code",
   "execution_count": 14,
   "metadata": {},
   "outputs": [
    {
     "name": "stdout",
     "output_type": "stream",
     "text": [
      "Data [1 2 3 5 5]\n",
      "Mean 3.2\n"
     ]
    }
   ],
   "source": [
    "print(\"Data\", X)\n",
    "print(\"Mean\",np.mean(X))"
   ]
  },
  {
   "cell_type": "markdown",
   "metadata": {},
   "source": [
    "### MEDIAN"
   ]
  },
  {
   "cell_type": "code",
   "execution_count": 15,
   "metadata": {},
   "outputs": [
    {
     "name": "stdout",
     "output_type": "stream",
     "text": [
      "Data [1 2 3 5 5]\n",
      "Median 3.0\n"
     ]
    }
   ],
   "source": [
    "print(\"Data\", X)\n",
    "print(\"Median\",np.median(X))"
   ]
  },
  {
   "cell_type": "markdown",
   "metadata": {},
   "source": [
    "### MODE"
   ]
  },
  {
   "cell_type": "code",
   "execution_count": 16,
   "metadata": {},
   "outputs": [
    {
     "data": {
      "text/plain": [
       "(array([1, 2, 3, 5]), array([1, 1, 1, 2], dtype=int64))"
      ]
     },
     "execution_count": 16,
     "metadata": {},
     "output_type": "execute_result"
    }
   ],
   "source": [
    "np.unique(X, return_counts=True)"
   ]
  },
  {
   "cell_type": "code",
   "execution_count": 17,
   "metadata": {},
   "outputs": [
    {
     "name": "stdout",
     "output_type": "stream",
     "text": [
      "Data [1 2 3 5 5]\n"
     ]
    },
    {
     "data": {
      "text/plain": [
       "(array([1, 2, 3, 5]), array([1, 1, 1, 2], dtype=int64))"
      ]
     },
     "execution_count": 17,
     "metadata": {},
     "output_type": "execute_result"
    }
   ],
   "source": [
    "#Finding Mode using numpy\n",
    "print(\"Data\", X)\n",
    "val,count=np.unique(X, return_counts=True)\n",
    "val,count"
   ]
  },
  {
   "cell_type": "code",
   "execution_count": 18,
   "metadata": {},
   "outputs": [
    {
     "data": {
      "text/plain": [
       "array([1, 1, 1, 2], dtype=int64)"
      ]
     },
     "execution_count": 18,
     "metadata": {},
     "output_type": "execute_result"
    }
   ],
   "source": [
    "count"
   ]
  },
  {
   "cell_type": "code",
   "execution_count": 22,
   "metadata": {},
   "outputs": [
    {
     "name": "stdout",
     "output_type": "stream",
     "text": [
      "Index :  3\n",
      "Mode numpy :  5\n"
     ]
    }
   ],
   "source": [
    "index=np.argmax(count)\n",
    "print(\"Index : \",index)\n",
    "print(\"Mode numpy : \",val[index])"
   ]
  },
  {
   "cell_type": "code",
   "execution_count": 24,
   "metadata": {},
   "outputs": [
    {
     "name": "stdout",
     "output_type": "stream",
     "text": [
      "Mode scipy :  ModeResult(mode=array([5]), count=array([2]))\n"
     ]
    }
   ],
   "source": [
    "#Finding Mode using Scipy\n",
    "from scipy import stats\n",
    "\n",
    "print(\"Mode scipy : \",stats.mode(X))\n",
    "modus=stats.mode(X)"
   ]
  },
  {
   "cell_type": "code",
   "execution_count": 25,
   "metadata": {},
   "outputs": [
    {
     "data": {
      "text/plain": [
       "ModeResult(mode=array([5]), count=array([2]))"
      ]
     },
     "execution_count": 25,
     "metadata": {},
     "output_type": "execute_result"
    }
   ],
   "source": [
    "modus"
   ]
  },
  {
   "cell_type": "markdown",
   "metadata": {},
   "source": [
    "## Measures of Spread"
   ]
  },
  {
   "cell_type": "markdown",
   "metadata": {},
   "source": [
    "### Range"
   ]
  },
  {
   "cell_type": "code",
   "execution_count": 26,
   "metadata": {},
   "outputs": [
    {
     "name": "stdout",
     "output_type": "stream",
     "text": [
      "Data  [1 2 3 5 5]\n",
      "Range  4\n"
     ]
    }
   ],
   "source": [
    "##Calculating the Range\n",
    "print(\"Data \",X)\n",
    "print(\"Range \",X.max()-X.min())"
   ]
  },
  {
   "cell_type": "markdown",
   "metadata": {},
   "source": [
    "### Quartiles and IQR (Interquartile range)"
   ]
  },
  {
   "cell_type": "code",
   "execution_count": 28,
   "metadata": {},
   "outputs": [
    {
     "name": "stdout",
     "output_type": "stream",
     "text": [
      "Data  [ 1  3  4  5  5  6  7 11]\n",
      "\n",
      "Quartile 1 :  3.5\n",
      "Quartile 2 :  5.0\n",
      "Quartile 3 :  6.5\n",
      "\n",
      "Interquartile Range  3.0\n"
     ]
    }
   ],
   "source": [
    "#Defining Data\n",
    "data1=np.array([1,3,4,5,5,6,7,11])\n",
    "print(\"Data \",data1)\n",
    "\n",
    "#First Quartile (Q1)\n",
    "Q1=np.quantile(data1,.25,interpolation='midpoint')\n",
    "print(\"\\nQuartile 1 : \",Q1)\n",
    "\n",
    "#Second Quartile (Q2)\n",
    "Q2=np.quantile(data1,.50,interpolation='midpoint')\n",
    "print(\"Quartile 2 : \",Q2)\n",
    "\n",
    "#Third Quartile (Q3)\n",
    "Q3=np.quantile(data1,.75,interpolation='midpoint')\n",
    "print(\"Quartile 3 : \",Q3)\n",
    "\n",
    "#Interquartile Range (IQR)\n",
    "IQR=Q3-Q1\n",
    "print(\"\\nInterquartile Range \",IQR)"
   ]
  },
  {
   "cell_type": "markdown",
   "metadata": {},
   "source": [
    "### Percentiles"
   ]
  },
  {
   "cell_type": "code",
   "execution_count": 29,
   "metadata": {},
   "outputs": [
    {
     "name": "stdout",
     "output_type": "stream",
     "text": [
      "Data [ 1  3  4  5  5  6  7 11]\n",
      "20th Percentile :  3.4\n"
     ]
    }
   ],
   "source": [
    "print(\"Data\",data1)\n",
    "prercentile_20=np.percentile(data1,20)\n",
    "print(\"20th Percentile : \",round(prercentile_20,2))"
   ]
  },
  {
   "cell_type": "markdown",
   "metadata": {},
   "source": [
    "### Variance and Standard Deviation"
   ]
  },
  {
   "cell_type": "code",
   "execution_count": 30,
   "metadata": {},
   "outputs": [
    {
     "name": "stdout",
     "output_type": "stream",
     "text": [
      "Data [ 1  3  4  5  5  6  7 11]\n",
      "Variance :  8.785714285714286\n",
      "Standard Deviation :  2.7726341266023544\n",
      "Standard Deviation :  2.9640705601780613\n"
     ]
    }
   ],
   "source": [
    "print(\"Data\",data1)\n",
    "print(\"Variance : \",np.var(data1,ddof=1))\n",
    "print(\"Standard Deviation : \",np.std(data1,ddof=0))#Population\n",
    "print(\"Standard Deviation : \",np.std(data1,ddof=1))#Sample"
   ]
  },
  {
   "cell_type": "code",
   "execution_count": 35,
   "metadata": {},
   "outputs": [],
   "source": [
    "import numpy as np\n",
    "import statistics"
   ]
  },
  {
   "cell_type": "code",
   "execution_count": 38,
   "metadata": {},
   "outputs": [
    {
     "name": "stdout",
     "output_type": "stream",
     "text": [
      "Nilai mean E :  78.0\n",
      "Nilai range E :  40\n",
      "Nilai varians E :  116.0\n",
      "Nilai Standar Deviasi E :  10.770329614269007\n",
      "Nilai Standar Deviasi E :  11.352924243950934\n"
     ]
    }
   ],
   "source": [
    "E=[60,70,70,70,80,80,80,80,90,100]\n",
    "F=[75,75,75,75,80,80,80,80,80,80]\n",
    "\n",
    "#Mean\n",
    "print(\"Nilai mean E : \",np.mean(E))\n",
    "#Range\n",
    "print(\"Nilai range E : \",np.max(E)-np.min(E))\n",
    "#Varians\n",
    "print(\"Nilai varians E : \",np.var(E))\n",
    "#Standard Deviation\n",
    "print(\"Nilai Standar Deviasi E : \",np.std(E))#std population\n",
    "print(\"Nilai Standar Deviasi E : \",statistics.stdev(E))#std samples, you can also use pst.dev for population"
   ]
  },
  {
   "cell_type": "markdown",
   "metadata": {},
   "source": [
    "## Covariance and Correlation"
   ]
  },
  {
   "cell_type": "markdown",
   "metadata": {},
   "source": [
    "### Covariance"
   ]
  },
  {
   "cell_type": "code",
   "execution_count": 39,
   "metadata": {},
   "outputs": [
    {
     "name": "stdout",
     "output_type": "stream",
     "text": [
      "[1 2 3 4 5 6 7 8 9]\n",
      "[9 8 7 6 5 4 3 2 1]\n",
      "\n",
      "Covariance  -7.5\n"
     ]
    }
   ],
   "source": [
    "x=np.array([1,2,3,4,5,6,7,8,9])\n",
    "print(x)\n",
    "y=np.array([9,8,7,6,5,4,3,2,1])\n",
    "print(y)\n",
    "\n",
    "print(\"\\nCovariance \",np.cov(x,y)[0,1])"
   ]
  },
  {
   "cell_type": "markdown",
   "metadata": {},
   "source": [
    "### Correlation"
   ]
  },
  {
   "cell_type": "code",
   "execution_count": 40,
   "metadata": {},
   "outputs": [
    {
     "name": "stdout",
     "output_type": "stream",
     "text": [
      "[[ 1. -1.]\n",
      " [-1.  1.]]\n"
     ]
    }
   ],
   "source": [
    "#Return a correlation coefficient matrix\n",
    "print(np.corrcoef(x,y))"
   ]
  },
  {
   "cell_type": "markdown",
   "metadata": {},
   "source": [
    "### Kurtosis"
   ]
  },
  {
   "cell_type": "code",
   "execution_count": 41,
   "metadata": {},
   "outputs": [
    {
     "name": "stdout",
     "output_type": "stream",
     "text": [
      "Kurtosis -1.2002400240024003\n"
     ]
    }
   ],
   "source": [
    "data2=np.linspace(-5,5,100)\n",
    "print(\"Kurtosis\",stats.kurtosis(data2))"
   ]
  },
  {
   "cell_type": "markdown",
   "metadata": {},
   "source": [
    "### Skewness"
   ]
  },
  {
   "cell_type": "code",
   "execution_count": 42,
   "metadata": {},
   "outputs": [],
   "source": [
    "from IPython.display import HTML\n",
    "from IPython.display import display"
   ]
  },
  {
   "cell_type": "code",
   "execution_count": 43,
   "metadata": {},
   "outputs": [
    {
     "data": {
      "text/html": [
       "<script>\n",
       "         code_show=true;\n",
       "         function code_toggle(){\n",
       "             if(code_show){\n",
       "                 $('div.cell.code_cell.rendered.selected div.input').hide();\n",
       "             }else{\n",
       "                 $('div.cell.code_cell.rendered.selected div.input).show();\n",
       "             }\n",
       "             code_show= !code_show\n",
       "             }\n",
       "             $(document).ready(code_toggle);\n",
       "             </script>\n",
       "             To show/hide this cell's raw input, click <a href=\"javascript:code_toogle()\">here</a>"
      ],
      "text/plain": [
       "<IPython.core.display.HTML object>"
      ]
     },
     "metadata": {},
     "output_type": "display_data"
    },
    {
     "data": {
      "image/png": "[encoded data removed]",
      "text/plain": [
       "<Figure size 432x288 with 1 Axes>"
      ]
     },
     "metadata": {
      "needs_background": "light"
     },
     "output_type": "display_data"
    }
   ],
   "source": [
    "tag=HTML('''<script>\n",
    "         code_show=true;\n",
    "         function code_toggle(){\n",
    "             if(code_show){\n",
    "                 $('div.cell.code_cell.rendered.selected div.input').hide();\n",
    "             }else{\n",
    "                 $('div.cell.code_cell.rendered.selected div.input).show();\n",
    "             }\n",
    "             code_show= !code_show\n",
    "             }\n",
    "             $(document).ready(code_toggle);\n",
    "             </script>\n",
    "             To show/hide this cell's raw input, click <a href=\"javascript:code_toogle()\">here</a>'''\n",
    ")\n",
    "display(tag)\n",
    "\n",
    "from scipy.stats import skewnorm\n",
    "import matplotlib.pyplot as plt\n",
    "\n",
    "numValues=10000\n",
    "maxValue=100\n",
    "skewness=-5 #Negative values are left skewed, positive values are right skewed.\n",
    "\n",
    "random=skewnorm.rvs(a=skewness,loc=maxValue,size=numValues) #Skewnorm function\n",
    "\n",
    "random=random-min(random) #Shift the set so the minimum value is equal to zero\n",
    "random=random/max(random) #Standarize all the values between 0 and 1\n",
    "random=random*maxValue    #Multiply the standarized value by the maximum value\n",
    "\n",
    "#plot histogram to check skewness\n",
    "plt.hist(random,30,density=True,color='red',alpha=0.1)\n",
    "plt.show()"
   ]
  },
  {
   "cell_type": "markdown",
   "metadata": {},
   "source": [
    "### Eigen Vector"
   ]
  },
  {
   "cell_type": "code",
   "execution_count": 44,
   "metadata": {},
   "outputs": [
    {
     "data": {
      "text/plain": [
       "matrix([[4, 2, 3],\n",
       "        [6, 7, 5],\n",
       "        [3, 6, 1]])"
      ]
     },
     "execution_count": 44,
     "metadata": {},
     "output_type": "execute_result"
    }
   ],
   "source": [
    "x=np.matrix([[4,2,3],[6,7,5],[3,6,1]])\n",
    "x"
   ]
  },
  {
   "cell_type": "code",
   "execution_count": 45,
   "metadata": {},
   "outputs": [
    {
     "data": {
      "text/plain": [
       "array([[1., 0., 0.],\n",
       "       [0., 1., 0.],\n",
       "       [0., 0., 1.]])"
      ]
     },
     "execution_count": 45,
     "metadata": {},
     "output_type": "execute_result"
    }
   ],
   "source": [
    "e=np.eye(3)\n",
    "e"
   ]
  },
  {
   "cell_type": "code",
   "execution_count": 46,
   "metadata": {},
   "outputs": [
    {
     "data": {
      "text/plain": [
       "(array([12.76222365,  1.17374428, -1.93596793]),\n",
       " matrix([[-0.35090794, -0.78464131, -0.36647301],\n",
       "         [-0.79489403,  0.40589024, -0.25466269],\n",
       "         [-0.49498192,  0.4686055 ,  0.89489913]]))"
      ]
     },
     "execution_count": 46,
     "metadata": {},
     "output_type": "execute_result"
    }
   ],
   "source": [
    "m=x+45*e\n",
    "np.linalg.eig(x)"
   ]
  },
  {
   "cell_type": "code",
   "execution_count": 47,
   "metadata": {},
   "outputs": [
    {
     "data": {
      "text/plain": [
       "(array([57.76222365, 46.17374428, 43.06403207]),\n",
       " matrix([[-0.35090794, -0.78464131, -0.36647301],\n",
       "         [-0.79489403,  0.40589024, -0.25466269],\n",
       "         [-0.49498192,  0.4686055 ,  0.89489913]]))"
      ]
     },
     "execution_count": 47,
     "metadata": {},
     "output_type": "execute_result"
    }
   ],
   "source": [
    "np.linalg.eig(m)"
   ]
  },
  {
   "cell_type": "code",
   "execution_count": null,
   "metadata": {},
   "outputs": [],
   "source": []
  }
 ],
 "metadata": {
  "interpreter": {
   "hash": "55812412f4194e6e36cf0b87bcf6145fbeb265097379bb6092bb4ae816390a5b"
  },
  "kernelspec": {
   "display_name": "Python 3.10.0 64-bit",
   "language": "python",
   "name": "python3"
  },
  "language_info": {
   "codemirror_mode": {
    "name": "ipython",
    "version": 3
   },
   "file_extension": ".py",
   "mimetype": "text/x-python",
   "name": "python",
   "nbconvert_exporter": "python",
   "pygments_lexer": "ipython3",
   "version": "3.9.7"
  },
  "orig_nbformat": 4
 },
 "nbformat": 4,
 "nbformat_minor": 2
}
