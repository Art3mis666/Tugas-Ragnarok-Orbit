{
 "cells": [
  {
   "cell_type": "markdown",
   "metadata": {},
   "source": [
    "Soal No.1\n",
    "\n",
    "- False\n",
    "- True\n",
    "- False\n",
    "- True\n",
    "- False"
   ]
  },
  {
   "cell_type": "markdown",
   "metadata": {},
   "source": [
    "Soal No.2"
   ]
  },
  {
   "cell_type": "code",
   "execution_count": null,
   "metadata": {},
   "outputs": [],
   "source": [
    "print('Hello!')\n",
    "something=input(\"Enter something : \")\n",
    "print('You entered : ', something)"
   ]
  },
  {
   "cell_type": "markdown",
   "metadata": {},
   "source": [
    "Soal No.3"
   ]
  },
  {
   "cell_type": "code",
   "execution_count": null,
   "metadata": {},
   "outputs": [],
   "source": [
    "print('Hello')\n",
    "something=input(\"Enter something : \")\n",
    "\n",
    "if something == 'hello':\n",
    "    print('Hello for you too!')\n",
    "    \n",
    "elif something == 'hi':\n",
    "    print('Hi there!')\n",
    "else :\n",
    "    print(\"I don't know what \",something1,\" means.\")"
   ]
  },
  {
   "cell_type": "markdown",
   "metadata": {},
   "source": [
    "Soal No.4"
   ]
  },
  {
   "cell_type": "code",
   "execution_count": null,
   "metadata": {},
   "outputs": [],
   "source": [
    "print('halo hai '*100)"
   ]
  },
  {
   "cell_type": "markdown",
   "metadata": {},
   "source": [
    "Soal No.5"
   ]
  },
  {
   "cell_type": "code",
   "execution_count": null,
   "metadata": {},
   "outputs": [],
   "source": [
    "player1=input(\"Masukan pilihan player 1 : \")\n",
    "player2=input(\"Masukan pilihan player 2 : \")\n",
    "\n",
    "if player1=='batu' and player2=='gunting':\n",
    "    print(\"Player 1 WIN!\")\n",
    "elif player1=='gunting' and player2=='batu':\n",
    "    print('Player 2 WIN!')\n",
    "elif player1=='kertas' and player2=='batu':\n",
    "    print('Player1 WIN!')\n",
    "elif player1=='batu' and player2=='kertas':\n",
    "    print('Player2 WIN')\n",
    "elif player1=='kertas' and player2=='gunting':\n",
    "    print('Player2 WIN')\n",
    "elif player1=='gunting' and player2=='kertas':\n",
    "    print('Player1 WIN!')\n",
    "elif player1=='batu' and player2=='batu':\n",
    "    print('DRAW!')\n",
    "elif player1=='gunting' and player2=='gunting':\n",
    "    print('DRAW!')\n",
    "elif player1=='kertas' and player2=='kertas':\n",
    "    print('DRAW!')\n",
    "else:\n",
    "    print('WRONG INPUT!')\n",
    "    "
   ]
  },
  {
   "cell_type": "markdown",
   "metadata": {},
   "source": [
    "Pemain 1\tPemain 2\tPemenang\n",
    "\n",
    "batu\t    gunting\t    Pemain 1\n",
    "gunting\t    batu        Pemain 2\n",
    "kertas      batu        Pemain 1\n",
    "batu        kertas      pemain 2\n",
    "kertas      gunting     Pemain 1\n",
    "gunting     kertas      Pemain 2\n",
    "gunting     gunting     Draw\n",
    "batu        batu        Draw\n",
    "kertas      kertas      draw\n"
   ]
  },
  {
   "cell_type": "markdown",
   "metadata": {},
   "source": [
    "Soal No.6"
   ]
  },
  {
   "cell_type": "code",
   "execution_count": null,
   "metadata": {},
   "outputs": [],
   "source": [
    "katakata=str\n",
    "while katakata!='berhenti':\n",
    "    katakata=input(\"Masukan input : \")\n",
    "    \n",
    "    if katakata!='berhenti':\n",
    "        print(katakata)\n",
    "    elif katakata=='berhenti':\n",
    "        print(\"program has been dismissed\")\n",
    "    else:\n",
    "        print(\" \")"
   ]
  },
  {
   "cell_type": "markdown",
   "metadata": {},
   "source": [
    "Soal No.7"
   ]
  },
  {
   "cell_type": "code",
   "execution_count": null,
   "metadata": {},
   "outputs": [],
   "source": [
    "pilihan='y'\n",
    "while pilihan=='y':\n",
    "      print('''\n",
    "            1. Donat : Rp.1250\n",
    "            2. Bakwan : Rp.1000\n",
    "            3. Onde onde : Rp.800\n",
    "            ''')\n",
    "      \n",
    "      pesanan=str(input(\"Masukan pilihan pesanan : \"))\n",
    "      \n",
    "      if pesanan==\"1\":\n",
    "            print(\"kamu memesan donat dengan harga Rp.1250, terima kasih sudah berbelanja\")\n",
    "      elif pesanan==\"2\":\n",
    "            print(\"kamu memesan bakwan dengan harga Rp.1000, terima kasih sudah berbelanja\")\n",
    "      elif pesanan==\"3\":\n",
    "            print(\"kamu memesan onde onde dengan harga Rp.800, terima kasih sudah berbelanja\")\n",
    "      else:\n",
    "            pilihan=input(\"menu tidak tersedia!\")\n",
    "            \n",
    "      pilihan=input(\"Apakah anda ingin memesan kembali Y/N? : \")"
   ]
  },
  {
   "cell_type": "markdown",
   "metadata": {},
   "source": [
    "Soal No.8"
   ]
  },
  {
   "cell_type": "code",
   "execution_count": 143,
   "metadata": {},
   "outputs": [
    {
     "name": "stdout",
     "output_type": "stream",
     "text": [
      "\n",
      "            1. Donat : Rp.1250\n",
      "            2. Bakwan : Rp.1000\n",
      "            3. Onde onde : Rp.800\n",
      "            \n",
      "Kamu memesan  Bakwan  sebanyak  2 . Total harga menjadi  2000  rupiah\n",
      "\n",
      "            1. Donat : Rp.1250\n",
      "            2. Bakwan : Rp.1000\n",
      "            3. Onde onde : Rp.800\n",
      "            \n",
      "Kamu memesan  Bakwan  sebanyak  2 . Total harga menjadi  2000  rupiah\n",
      "terima kasih sudah berbelanja\n"
     ]
    }
   ],
   "source": [
    "pilihan='y'\n",
    "while pilihan=='y':\n",
    "      print('''\n",
    "            1. Donat : Rp.1250\n",
    "            2. Bakwan : Rp.1000\n",
    "            3. Onde onde : Rp.800\n",
    "            ''')\n",
    "      \n",
    "      pesanan=str(input(\"Masukan pilihan pesanan : \"))\n",
    "      jumlah=int(input(\"Masukan jumlah pesanan : \"))\n",
    "      if pesanan==\"1\":\n",
    "            nama=\"Donat\"\n",
    "            total=(1250*jumlah)\n",
    "            print('Kamu memesan ',nama,\" sebanyak \",jumlah,\". Total harga menjadi \",total,' rupiah')\n",
    "      elif pesanan==\"2\":\n",
    "            nama=\"Bakwan\"\n",
    "            total=(1000*jumlah)\n",
    "            print('Kamu memesan ',nama,\" sebanyak \",jumlah,\". Total harga menjadi \",total,' rupiah')\n",
    "      elif pesanan==\"3\":\n",
    "            nama=\"Onde-Onde\"\n",
    "            total=(800*jumlah)\n",
    "            print('Kamu memesan ',nama,\" sebanyak \",jumlah,\". Total harga menjadi \",total,' rupiah')\n",
    "      else:\n",
    "            pilihan=input(\"menu tidak tersedia!\")\n",
    "            \n",
    "      pilihan=input(\"Apakah anda ingin memesan kembali Y/N? : \")\n",
    "else:\n",
    "    print('terima kasih sudah berbelanja')"
   ]
  },
  {
   "cell_type": "code",
   "execution_count": null,
   "metadata": {},
   "outputs": [],
   "source": []
  }
 ],
 "metadata": {
  "interpreter": {
   "hash": "55812412f4194e6e36cf0b87bcf6145fbeb265097379bb6092bb4ae816390a5b"
  },
  "kernelspec": {
   "display_name": "Python 3.10.0 64-bit",
   "language": "python",
   "name": "python3"
  },
  "language_info": {
   "codemirror_mode": {
    "name": "ipython",
    "version": 3
   },
   "file_extension": ".py",
   "mimetype": "text/x-python",
   "name": "python",
   "nbconvert_exporter": "python",
   "pygments_lexer": "ipython3",
   "version": "3.10.0"
  },
  "orig_nbformat": 4
 },
 "nbformat": 4,
 "nbformat_minor": 2
}
